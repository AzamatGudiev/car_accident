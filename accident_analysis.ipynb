{
 "cells": [
  {
   "cell_type": "code",
   "execution_count": null,
   "id": "3509f280",
   "metadata": {},
   "outputs": [],
   "source": [
    "import matplotlib.pyplot as plt\n",
    "import seaborn as sns\n",
    "import pandas as pd\n",
    "import seaborn as sns\n",
    "import matplotlib.pyplot as plt\n",
    "import ast\n",
    "from hijri_converter import convert\n"
   ]
  },
  {
   "cell_type": "code",
   "execution_count": null,
   "id": "d24768d5",
   "metadata": {},
   "outputs": [],
   "source": [
    "car_accident_data = pd.read_csv('final_data.csv', index_col=0)\n",
    "data = pd.read_csv('final_data.csv', index_col=0)"
   ]
  },
  {
   "cell_type": "markdown",
   "id": "77953666",
   "metadata": {},
   "source": [
    "# Analysis of date/ time related columns"
   ]
  },
  {
   "cell_type": "markdown",
   "id": "8a1925a9",
   "metadata": {},
   "source": [
    "## creating hijri months for deeper analysis"
   ]
  },
  {
   "cell_type": "code",
   "execution_count": null,
   "id": "8bb75b50",
   "metadata": {},
   "outputs": [],
   "source": [
    "def to_hijri(date):\n",
    "    gregorian_date = pd.to_datetime(date).date()  \n",
    "    hijri_date = convert.Gregorian(gregorian_date.year, gregorian_date.month, gregorian_date.day).to_hijri()\n",
    "    return f'{hijri_date.year}-{hijri_date.month:02d}-{hijri_date.day:02d}'\n",
    "\n",
    "data['hijri'] = data['datetime'].apply(to_hijri)\n",
    "hijri_month_names = {\n",
    "    1: 'Muharram',\n",
    "    2: 'Safar',\n",
    "    3: 'Rabi Al-Awwal',\n",
    "    4: 'Rabi Al-Thani',\n",
    "    5: 'Jumada Al-Awwal',\n",
    "    6: 'Jumada Al-Thani',\n",
    "    7: 'Rajab',\n",
    "    8: 'Sha\\'ban',\n",
    "    9: 'Ramadan',\n",
    "    10: 'Shawwal',\n",
    "    11: 'Dhu Al-Qa\\'dah',\n",
    "    12: 'Dhu Al-Hijjah'\n",
    "}\n",
    "\n",
    "def get_hijri_month(hijri_date_str):\n",
    "    hijri_month_number = int(hijri_date_str.split('-')[1])\n",
    "    return hijri_month_names[hijri_month_number]\n",
    "\n",
    "data['hijri_month_name'] = data['hijri'].apply(get_hijri_month)\n"
   ]
  },
  {
   "cell_type": "code",
   "execution_count": null,
   "id": "b365ed01",
   "metadata": {},
   "outputs": [],
   "source": [
    "data['datetime'] = pd.to_datetime(data['datetime'])\n",
    "data['month'] = data['datetime'].dt.strftime('%B')\n",
    "car_accident_data['datetime'] = pd.to_datetime(car_accident_data['datetime'])\n",
    "car_accident_data['month'] = car_accident_data['datetime'].dt.strftime('%B')"
   ]
  },
  {
   "cell_type": "markdown",
   "id": "3e55ef62",
   "metadata": {},
   "source": [
    "## gregorian_month VS Hijri Month"
   ]
  },
  {
   "cell_type": "code",
   "execution_count": null,
   "id": "ce9f1779",
   "metadata": {},
   "outputs": [],
   "source": [
    "data['gregorian_month'] = pd.to_datetime(data['datetime']).dt.strftime('%B')\n",
    "\n",
    "hijri_month_order_corrected = ['Muharram', 'Safar', 'Rabi Al-Awwal', 'Rabi Al-Thani', \n",
    "                               'Jumada Al-Awwal', 'Jumada Al-Thani', 'Rajab', \"Sha'ban\", \n",
    "                               'Ramadan', 'Shawwal', \"Dhu Al-Qa'dah\", 'Dhu Al-Hijjah']\n",
    "\n",
    "gregorian_month_order = ['January', 'February', 'March', 'April', 'May', 'June', \n",
    "                         'July', 'August', 'September', 'October', 'November', 'December']\n",
    "\n",
    "sns.set_style(\"whitegrid\")\n",
    "\n",
    "plt.figure(figsize=(15, 6))\n",
    "\n",
    "plt.subplot(1, 2, 1)\n",
    "sns.countplot(data=data, y='gregorian_month', order=gregorian_month_order, color='skyblue')\n",
    "plt.title('Accident Count in Each Gregorian Month')\n",
    "\n",
    "plt.subplot(1, 2, 2)\n",
    "sns.countplot(data=data, y='hijri_month_name', order=hijri_month_order_corrected, color='lightcoral')\n",
    "plt.title('Accident Count in Each Hijri Month')\n",
    "\n",
    "# Display the plots\n",
    "plt.tight_layout()\n",
    "plt.show()\n"
   ]
  },
  {
   "cell_type": "markdown",
   "id": "933a89aa",
   "metadata": {},
   "source": [
    "### Heatmap "
   ]
  },
  {
   "cell_type": "code",
   "execution_count": null,
   "id": "a714b773",
   "metadata": {},
   "outputs": [],
   "source": [
    "data['gregorian_year'] = pd.to_datetime(data['datetime']).dt.year\n",
    "data['hijri_year'] = data['hijri'].str.slice(0, 4).astype(int)\n",
    "\n",
    "pivot_gregorian = data.pivot_table(index='gregorian_year', columns='gregorian_month', \n",
    "                                   values='datetime', aggfunc='count', fill_value=0)\n",
    "pivot_gregorian = pivot_gregorian[gregorian_month_order]\n",
    "\n",
    "pivot_hijri = data.pivot_table(index='hijri_year', columns='hijri_month_name', \n",
    "                               values='hijri', aggfunc='count', fill_value=0)\n",
    "pivot_hijri = pivot_hijri[hijri_month_order_corrected]\n",
    "\n",
    "plt.figure(figsize=(18, 12))\n",
    "\n",
    "plt.subplot(1, 2, 1)\n",
    "sns.heatmap(pivot_gregorian, cmap='Blues', annot=True, fmt='d', cbar_kws={'label': 'Accident Count'})\n",
    "plt.title('Monthly Accident Count per Year (Gregorian)')\n",
    "\n",
    "plt.subplot(1, 2, 2)\n",
    "sns.heatmap(pivot_hijri, cmap='Reds', annot=True, fmt='d', cbar_kws={'label': 'Accident Count'})\n",
    "plt.title('Monthly Accident Count per Year (Hijri)')\n",
    "\n",
    "plt.tight_layout()\n",
    "plt.show()\n"
   ]
  },
  {
   "cell_type": "markdown",
   "id": "08f4f6c7",
   "metadata": {},
   "source": [
    "## Accident Count Comparison: Full Month vs First Five Days"
   ]
  },
  {
   "cell_type": "code",
   "execution_count": null,
   "id": "9074c5c8",
   "metadata": {},
   "outputs": [],
   "source": [
    "data['hijri_month'] = data['hijri'].str.split('-').str[1]\n",
    "data['hijri_day'] = data['hijri'].str.split('-').str[2]\n",
    "\n",
    "data['hijri_month'] = data['hijri_month'].astype(int)\n",
    "data['hijri_day'] = data['hijri_day'].astype(int)\n",
    "\n",
    "data[['hijri', 'hijri_month', 'hijri_day']].head()\n"
   ]
  },
  {
   "cell_type": "code",
   "execution_count": null,
   "id": "8e7b5fec",
   "metadata": {},
   "outputs": [],
   "source": [
    "first_five_days_data = data[data['hijri_day'] <= 5]\n",
    "\n",
    "accidents_by_month_first_five_days = first_five_days_data.groupby('hijri_month_name').size()\n",
    "\n",
    "accidents_by_month_total = data.groupby('hijri_month_name').size()"
   ]
  },
  {
   "cell_type": "markdown",
   "id": "8c5aae12",
   "metadata": {},
   "source": [
    "### graph comparison first 5 days of each month"
   ]
  },
  {
   "cell_type": "code",
   "execution_count": null,
   "id": "41a36174",
   "metadata": {},
   "outputs": [],
   "source": [
    "fig, ax = plt.subplots(figsize=(14, 7))\n",
    "\n",
    "accidents_by_month_first_five_days.sort_index().plot(kind='bar', ax=ax, color='skyblue', position=0, width=0.4, label=\"First Five Days\")\n",
    "\n",
    "accidents_by_month_total.sort_index().plot(kind='bar', ax=ax, color='salmon', position=1, width=0.4, label=\"Entire Month\")\n",
    "\n",
    "ax.set_title(\"Number of Accidents in the First Five Days vs. Entire Hijri Month\")\n",
    "ax.set_ylabel(\"Number of Accidents\")\n",
    "ax.set_xlabel(\"Hijri Month\")\n",
    "ax.legend()\n",
    "\n",
    "plt.tight_layout()\n",
    "plt.show()\n"
   ]
  },
  {
   "cell_type": "markdown",
   "id": "1c1ff7e6",
   "metadata": {},
   "source": [
    "## Accident Count for Each Day of the Week"
   ]
  },
  {
   "cell_type": "code",
   "execution_count": null,
   "id": "31124d88",
   "metadata": {},
   "outputs": [],
   "source": [
    "# Set the pastel color palette\n",
    "color_palette = sns.color_palette(\"pastel\")\n",
    "\n",
    "# Create a bar plot for observations count on each day of the week with different colors for each bar\n",
    "plt.figure(figsize=(10, 6))\n",
    "sns.countplot(data=data, x='day_of_week', \n",
    "              order=['Monday', 'Tuesday', 'Wednesday', 'Thursday', 'Friday', 'Saturday', 'Sunday'],\n",
    "              palette=color_palette) \n",
    "plt.title('Observation Count for Each Day of the Week')\n",
    "plt.ylabel('Number of Observations')\n",
    "plt.xlabel('Day of the Week')\n",
    "plt.xticks(rotation=45)\n",
    "plt.show()\n"
   ]
  },
  {
   "cell_type": "markdown",
   "id": "f3309f69",
   "metadata": {},
   "source": [
    "## Accident Count for Each hour of the day"
   ]
  },
  {
   "cell_type": "code",
   "execution_count": null,
   "id": "ca15c15d",
   "metadata": {},
   "outputs": [],
   "source": [
    "# Convert the 'datetime' column to datetime format\n",
    "data['datetime'] = pd.to_datetime(data['datetime'], errors='coerce')\n",
    "\n",
    "# Extract the hour from the 'datetime' column\n",
    "data['hour'] = data['datetime'].dt.hour\n",
    "\n",
    "# Create a count plot to visualize the number of accidents each hour\n",
    "plt.figure(figsize=(12, 6))\n",
    "sns.countplot(x=data['hour'], palette=\"Spectral\")\n",
    "plt.title('Number of Accidents Each Hour')\n",
    "plt.xlabel('Hour')\n",
    "plt.ylabel('Count')\n",
    "plt.xticks(rotation=45)\n",
    "plt.tight_layout()\n",
    "plt.show()"
   ]
  },
  {
   "cell_type": "markdown",
   "id": "21bee4f3",
   "metadata": {},
   "source": [
    "## Light category vs hour of the day"
   ]
  },
  {
   "cell_type": "code",
   "execution_count": null,
   "id": "a542febb",
   "metadata": {},
   "outputs": [],
   "source": [
    "data['hour'] = pd.to_datetime(data['datetime']).dt.hour\n",
    "plt.figure(figsize=(15, 8))\n",
    "\n",
    "hourly_light_counts = data.groupby(['hour', 'light']).size().unstack().fillna(0)\n",
    "\n",
    "hourly_light_counts.plot(kind='bar', stacked=True, colormap='Set3', ax=plt.gca())\n",
    "\n",
    "plt.title('Observation Count for Each Light Category by Hour of the Day')\n",
    "plt.ylabel('Number of Observations')\n",
    "plt.xlabel('Hour of the Day')\n",
    "plt.xticks(rotation=45)\n",
    "plt.legend(title='Light Category')\n",
    "plt.tight_layout()\n",
    "plt.show()\n"
   ]
  },
  {
   "cell_type": "markdown",
   "id": "6d8a560f",
   "metadata": {},
   "source": [
    "## Day of the week grouped by season"
   ]
  },
  {
   "cell_type": "code",
   "execution_count": null,
   "id": "53af60ac",
   "metadata": {},
   "outputs": [],
   "source": [
    "plt.figure(figsize=(12, 8))\n",
    "sns.countplot(data=data, x='day_of_week', hue='season', palette='Set3', order=['Monday', 'Tuesday', 'Wednesday', 'Thursday', 'Friday', 'Saturday', 'Sunday'])\n",
    "plt.title('Count of Observations for Each Day of the Week Grouped by Season')\n",
    "plt.xlabel('Day of the Week')\n",
    "plt.ylabel('Count of Observations')\n",
    "plt.legend(title='Season', title_fontsize='13', fontsize='11')\n",
    "plt.xticks(rotation=45)\n",
    "plt.grid(axis='y', linestyle='--', alpha=0.7)\n",
    "plt.tight_layout()\n",
    "plt.show()\n"
   ]
  },
  {
   "cell_type": "markdown",
   "id": "0e1f0eb8",
   "metadata": {},
   "source": [
    "# Vehicle analysis"
   ]
  },
  {
   "cell_type": "markdown",
   "id": "4a033f5f",
   "metadata": {},
   "source": [
    "## Vehicle color vs time of the day"
   ]
  },
  {
   "cell_type": "code",
   "execution_count": null,
   "id": "4b9a5177",
   "metadata": {},
   "outputs": [],
   "source": [
    "car_accident_data['datetime'] = pd.to_datetime(car_accident_data['datetime'])\n",
    "car_accident_data['hour'] = car_accident_data['datetime'].dt.hour\n",
    "\n",
    "conditions = [\n",
    "    (car_accident_data['hour'] >= 6) & (car_accident_data['hour'] < 12),  # Morning\n",
    "    (car_accident_data['hour'] >= 12) & (car_accident_data['hour'] < 18),  # Afternoon\n",
    "    (car_accident_data['hour'] >= 18) & (car_accident_data['hour'] < 24),  # Evening\n",
    "    (car_accident_data['hour'] >= 0) & (car_accident_data['hour'] < 6)    # Night\n",
    "]\n",
    "\n",
    "choices = ['Morning', 'Afternoon', 'Evening', 'Night']\n",
    "car_accident_data['time_of_day'] = np.select(conditions, choices, default='Unknown')\n",
    "color_time_grouped = car_accident_data.groupby(['vehicle_color', 'time_of_day']).size().unstack().fillna(0)\n",
    "color_time_percentages = color_time_grouped.div(color_time_grouped.sum(axis=1), axis=0) * 100\n",
    "color_time_grouped.plot(kind='bar', stacked=True, figsize=(15, 10), colormap='Set2')\n",
    "plt.title('Frequency of Accidents by Vehicle Color and Time of Day')\n",
    "plt.xlabel('Vehicle Color')\n",
    "plt.ylabel('Frequency of Accidents')\n",
    "plt.xticks(rotation=45)\n",
    "plt.legend(title='Time of Day')\n",
    "plt.tight_layout()\n",
    "plt.show()\n",
    "\n",
    "plt.figure(figsize=(10, 8))\n",
    "sns.heatmap(color_time_percentages, annot=True, cmap='coolwarm', fmt=\".0f\")\n",
    "plt.title('Percentage of Accidents by Vehicle Color and Time of Day')\n",
    "plt.xlabel('Time of Day')\n",
    "plt.ylabel('Vehicle Color')\n",
    "plt.show()\n",
    "\n",
    "print(color_time_percentages)\n"
   ]
  },
  {
   "cell_type": "markdown",
   "id": "0c60233b",
   "metadata": {},
   "source": [
    "## Vehicle year analysis"
   ]
  },
  {
   "cell_type": "code",
   "execution_count": null,
   "id": "4ec5be21",
   "metadata": {},
   "outputs": [],
   "source": [
    "if 'vehicle_year' in car_accident_data.columns:\n",
    "    car_accident_data['vehicle_year_bin_eq_freq'] = pd.qcut(car_accident_data['vehicle_year'], q=5, precision=0)\n",
    "    vehicle_year_eq_freq_frequency = car_accident_data['vehicle_year_bin_eq_freq'].value_counts()\n",
    "\n",
    "    print(vehicle_year_eq_freq_frequency)\n",
    "else:\n",
    "    print(\"The column 'vehicle_year' does not exist. Please provide the correct column name.\")\n"
   ]
  },
  {
   "cell_type": "code",
   "execution_count": null,
   "id": "a99f3ce5",
   "metadata": {},
   "outputs": [],
   "source": [
    "import pandas as pd\n",
    "import seaborn as sns\n",
    "import matplotlib.pyplot as plt\n",
    "\n",
    "\n",
    "vehicle_year_eq_width_frequency = car_accident_data['vehicle_year_bin_eq_width'].value_counts()\n",
    "\n",
    "vehicle_year_eq_freq_frequency = car_accident_data['vehicle_year_bin_eq_freq'].value_counts()\n",
    "\n",
    "plt.figure(figsize=(15, 10))\n",
    "\n",
    "# Subplot 1: Bar plot for vehicle year bins (equal width)\n",
    "plt.subplot(2, 1, 1)\n",
    "sns.barplot(x=vehicle_year_eq_width_frequency.index, y=vehicle_year_eq_width_frequency.values, palette='Set2')\n",
    "plt.title('Distribution of Vehicle Ages (Equal Width Bins)')\n",
    "plt.xlabel('Vehicle Year Bins (Equal Width)')\n",
    "plt.ylabel('Frequency')\n",
    "plt.xticks(rotation=45)\n",
    "\n",
    "# Subplot 2: Bar plot for vehicle year bins (equal frequency)\n",
    "plt.subplot(2, 1, 2)\n",
    "sns.barplot(x=vehicle_year_eq_freq_frequency.index, y=vehicle_year_eq_freq_frequency.values, palette='Set2')\n",
    "plt.title('Distribution of Vehicle Ages (Equal Frequency Bins)')\n",
    "plt.xlabel('Vehicle Year Bins (Equal Frequency)')\n",
    "plt.ylabel('Frequency')\n",
    "plt.xticks(rotation=45)\n",
    "\n",
    "# Adjust the layout\n",
    "plt.tight_layout()\n",
    "plt.show()\n"
   ]
  },
  {
   "cell_type": "markdown",
   "id": "76f52b0a",
   "metadata": {},
   "source": [
    "## car class and victims count"
   ]
  },
  {
   "cell_type": "code",
   "execution_count": null,
   "id": "9b108e25",
   "metadata": {},
   "outputs": [],
   "source": [
    "plt.figure(figsize=(10, 6))\n",
    "sns.boxplot(data=car_accident_data, x='vehicle_category', y='victim_counts', palette='Set2')\n",
    "plt.title('Distribution of Victim Counts Across Vehicle Categories')\n",
    "plt.xlabel('Vehicle Category')\n",
    "plt.ylabel('Victim Counts')\n",
    "plt.xticks(rotation=90)\n",
    "plt.show()\n"
   ]
  },
  {
   "cell_type": "markdown",
   "id": "6ca26b52",
   "metadata": {},
   "source": [
    "The box plot illustrates the distribution of victim counts across different vehicle categories. Here are some observations:\n",
    "\n",
    "The median victim count appears to be slightly higher for accidents involving buses, which might be expected given the larger passenger capacity of buses.\n",
    "\n",
    "Accidents involving trucks also show a wider interquartile range and some outliers with higher victim counts, possibly indicating more severe accidents when trucks are involved.\n",
    "\n",
    "Passenger vehicles, motorcycles, and bicycles have lower median victim counts and narrower interquartile ranges, suggesting these accidents might be less severe on average.\n",
    "\n",
    "These insights could be indicative of the varying levels of accident severity associated with different vehicle categories."
   ]
  },
  {
   "cell_type": "markdown",
   "id": "d963ee28",
   "metadata": {},
   "source": [
    "# Nearby factors and the frequency of accidents"
   ]
  },
  {
   "cell_type": "code",
   "execution_count": null,
   "id": "afd13cc8",
   "metadata": {},
   "outputs": [],
   "source": [
    "nearby_factors_frequency = car_accident_data['nearby_cluster_categories'].value_counts()\n",
    "\n",
    "plt.figure(figsize=(10, 6))\n",
    "sns.barplot(x=nearby_factors_frequency.values, y=nearby_factors_frequency.index, palette='Set2')\n",
    "plt.title('Frequency of Accidents by Nearby Factors (Cluster Categories)')\n",
    "plt.xlabel('Frequency')\n",
    "plt.ylabel('Nearby Factors (Cluster Categories)')\n",
    "plt.show()\n"
   ]
  },
  {
   "cell_type": "markdown",
   "id": "ec163d8e",
   "metadata": {},
   "source": [
    "# Distribution of Accident Severity by Victim Violations Cluster Categories"
   ]
  },
  {
   "cell_type": "code",
   "execution_count": null,
   "id": "76a40ac4",
   "metadata": {},
   "outputs": [],
   "source": [
    "sns.set_style(\"whitegrid\")\n",
    "\n",
    "plt.figure(figsize=(14, 10))\n",
    "\n",
    "sns.countplot(data=data, y='nearby_cluster_categories', hue='victim_categories', palette='Set2')\n",
    "\n",
    "plt.title('Distribution of Guilty Health Status within Guilty Violations Cluster Categories', fontsize=16)\n",
    "plt.xlabel('Count', fontsize=12)\n",
    "plt.ylabel('Guilty Violations Cluster Categories', fontsize=12)\n",
    "\n",
    "plt.show()"
   ]
  },
  {
   "cell_type": "code",
   "execution_count": null,
   "id": "e9efe1f4",
   "metadata": {},
   "outputs": [],
   "source": [
    "nearby_victim_grouped = data.groupby(['nearby_cluster_categories', 'victim_categories']).size().unstack(fill_value=0)\n",
    "\n",
    "victim_nearby_percentage = (nearby_victim_grouped.T / nearby_victim_grouped.sum(axis=1)).T * 100\n",
    "\n",
    "victim_nearby_percentage_rounded = victim_nearby_percentage.round(2)\n",
    "victim_nearby_percentage_rounded.reset_index(inplace=True)  \n",
    "victim_nearby_percentage_rounded\n"
   ]
  },
  {
   "cell_type": "markdown",
   "id": "dfc95a33",
   "metadata": {},
   "source": [
    "Pedestrian and Commercial Area Traffic Accidents:\n",
    "\n",
    "Pedestrian Victims: \n",
    "32.95%\n",
    "Child Victims: \n",
    "9.09%\n",
    "\n",
    "Regulated Intersection Near Residential Area Traffic Accidents:\n",
    "\n",
    "Pedestrian Victims: \n",
    "19.69%\n",
    "Child Victims: \n",
    "13.39%\n",
    "\n",
    "Residential Houses, Individual Buildings, Unregulated Intersections:\n",
    "\n",
    "Pedestrian Victims: \n",
    "19.64%\n",
    "Child Victims: \n",
    "15.85%\n",
    "\n",
    "Unregulated Intersection near Residential Houses:\n",
    "\n",
    "Pedestrian Victims: \n",
    "16.36%\n",
    "Child Victims: \n",
    "12.42%\n",
    "\n",
    "Residential Individual Houses Area & Gas Stations:\n",
    "\n",
    "Pedestrian Victims: \n",
    "15.65%\n",
    "Child Victims: \n",
    "18.70%"
   ]
  },
  {
   "cell_type": "markdown",
   "id": "646d4a98",
   "metadata": {},
   "source": [
    "Prevalence of Accidents Involving Pedestrians and Children:\n",
    "\n",
    "Areas categorized as \"Pedestrian and Commercial Area Traffic Accidents,\" \"Residential Houses, Individual Buildings, Unregulated Intersections,\" and similar clusters show a higher percentage of accidents involving pedestrians and children.\n",
    "Particularly, the \"Residential Houses, Individual Buildings, Unregulated Intersections\" cluster has a notable percentage of accidents involving pedestrians (\n",
    "19.64\n",
    "%\n",
    "19.64%) and children (\n",
    "15.85\n",
    "%\n",
    "15.85%).\n",
    "\n",
    "Gas Station Accidents and Vehicle Victims:\n",
    "\n",
    "\n",
    "The \"Gas Station Accidents\" cluster shows a high percentage of vehicle victims (\n",
    "89.89\n",
    "%\n",
    "89.89%), which could be indicative of its proximity to highways or major roads.\n",
    "The design of gas stations' entrances and exits, high-speed traffic, and possibly inadequate signage could be contributing factors to the high occurrence of vehicle accidents in these areas.\n",
    "\n",
    "Safety Enhancement Recommendations:\n",
    "\n",
    "\n",
    "For areas with a high percentage of pedestrian and child victims, implementing safety measures such as enhanced pedestrian crossings, traffic calming measures, and education campaigns on road safety could be beneficial.\n",
    "In areas near gas stations, improved signage, regulated speed limits, and better-designed entrances and exits could potentially reduce the risk of accidents.\n",
    "\n",
    "Further Analysis:\n",
    "\n",
    "\n",
    "Delving into additional variables like road conditions, lighting conditions, and exact accident locations could provide a more nuanced understanding of the factors contributing to accidents in these identified clusters."
   ]
  },
  {
   "cell_type": "markdown",
   "id": "34e462b6",
   "metadata": {},
   "source": [
    "# Male vs Female"
   ]
  },
  {
   "cell_type": "code",
   "execution_count": null,
   "id": "aade3bff",
   "metadata": {},
   "outputs": [],
   "source": [
    "gender_proportions = car_accident_data['guilty_gender'].value_counts()\n",
    "\n",
    "# Create a bar chart\n",
    "plt.figure(figsize=(8, 6))\n",
    "plt.bar(gender_proportions.index, gender_proportions.values, color=['blue', 'pink'])\n",
    "plt.xlabel('Gender')\n",
    "plt.ylabel('Frequency')\n",
    "plt.title('Accident Frequency by Gender')\n",
    "plt.show()"
   ]
  },
  {
   "cell_type": "markdown",
   "id": "1c77c1c2",
   "metadata": {},
   "source": [
    "# Distribution of Accident Severity by Victim Violations Cluster Categories"
   ]
  },
  {
   "cell_type": "code",
   "execution_count": null,
   "id": "42c75465",
   "metadata": {},
   "outputs": [],
   "source": [
    "import seaborn as sns\n",
    "import matplotlib.pyplot as plt\n",
    "\n",
    "sns.set_style(\"whitegrid\")\n",
    "\n",
    "plt.figure(figsize=(14, 10))\n",
    "\n",
    "sns.countplot(data=data, y='victim_violations_cluster_categories', hue='victim_health_status', palette='Set2')\n",
    "\n",
    "plt.title('Distribution of Accident Severity within Victim Violations Cluster Categories', fontsize=16)\n",
    "plt.xlabel('Count', fontsize=12)\n",
    "plt.ylabel('Victim Violations Cluster Categories', fontsize=12)\n",
    "plt.legend(title='Severity')\n",
    "\n",
    "plt.show()\n"
   ]
  },
  {
   "cell_type": "markdown",
   "id": "a87b8e91",
   "metadata": {},
   "source": [
    "The plot above shows the distribution of accident severity within various victim violation cluster categories, colored by the health status of victims. Based on the visual, here are some detailed observations:\n",
    "\n",
    "1. **Severity Distributions**: The plot reveals different patterns of victim health status across various violation categories. This indicates how certain types of violations correlate with more severe health outcomes.\n",
    "\n",
    "2. **Specific Categories**:\n",
    "   - **High Frequency of Severe Outcomes**: Some categories, possibly including \"Lack of Reflective Elements Violation\" if it shows darker colors (indicating severe outcomes like 'Fatal' or 'Severe'), suggest that these violations are more likely to result in serious injuries or fatalities.\n",
    "   - **Categories with Lower Severity**: Other categories might predominantly show lighter colors (indicating 'Minor' injuries), suggesting that violations in these categories are less likely to result in serious health impacts.\n",
    "\n",
    "3. **Intervention Points**:\n",
    "   - **For High-Risk Categories**: If categories like \"Lack of Reflective Elements Violation\" show a high frequency of severe outcomes, targeted interventions such as awareness campaigns about the importance of reflective gear or enhanced enforcement of existing laws could be beneficial.\n",
    "   - **For Less Severe Categories**: Educational programs could still be beneficial, focusing on preventing such violations and promoting safer practices.\n",
    "\n",
    "4. **Policy and Planning**:\n",
    "   - **Resource Allocation**: The data can help prioritize which violations need more immediate attention in terms of road safety initiatives or law enforcement resource allocation.\n",
    "   - **Legislative Review**: If certain violations consistently lead to severe outcomes, it might be necessary to review and possibly strengthen the legislation related to these violations.\n",
    "\n",
    "5. **Community Engagement**:\n",
    "   - **Awareness Programs**: Particularly for violations that lead to severe outcomes, community awareness programs could be crucial in reducing these incidents. For instance, teaching about the importance of reflective materials at community centers or through school programs."
   ]
  },
  {
   "cell_type": "markdown",
   "id": "c639439b",
   "metadata": {},
   "source": [
    "# Distribution of Guilty Health Status by Guilty Violations Cluster Categories\n"
   ]
  },
  {
   "cell_type": "code",
   "execution_count": null,
   "id": "96e75160",
   "metadata": {},
   "outputs": [],
   "source": [
    "sns.set_style(\"whitegrid\")\n",
    "\n",
    "plt.figure(figsize=(14, 10))\n",
    "\n",
    "sns.countplot(data=data, y='guilty_violations_cluster_categories', hue='guilty_health_status', palette='Set2')\n",
    "\n",
    "plt.title('Distribution of Guilty Health Status within Guilty Violations Cluster Categories', fontsize=16)\n",
    "plt.xlabel('Count', fontsize=12)\n",
    "plt.ylabel('Guilty Violations Cluster Categories', fontsize=12)\n",
    "\n",
    "plt.show()\n"
   ]
  },
  {
   "cell_type": "markdown",
   "id": "769d73f0",
   "metadata": {},
   "source": [
    "Violation of Safety Belt Usage Rules by Driver:\n",
    "\n",
    "A notable insight from the graph is the significantly higher count of deceased individuals when the violation involves the non-usage of safety belts by drivers. This finding underscores the critical importance of adhering to safety belt usage regulations, which are designed to protect individuals in the event of a collision. The data strongly supports ongoing public education and enforcement efforts to ensure compliance with safety belt usage rules, as this simple preventive measure can significantly reduce fatalities in road accidents.\n",
    "\n",
    "\n",
    "Non-Compliance with Traffic Rules by Unqualified Driver without Auto Insurance:\n",
    "\n",
    "Additionally, there is a concerning number of deceased and injured individuals in accidents where the guilty party is an unqualified driver without auto insurance, who also violated traffic rules. This category of violations encapsulates multiple layers of risk, including lack of proper driving qualifications and non-compliance with traffic regulations. The absence of auto insurance further exacerbates the situation, potentially leaving victims without recourse for medical or repair expenses. This finding suggests a need for stricter enforcement of driving qualifications and insurance regulations, alongside efforts to ensure compliance with traffic rules."
   ]
  },
  {
   "cell_type": "markdown",
   "id": "cbaf77f7",
   "metadata": {},
   "source": [
    "# Distribution of Guilty Driving Experience by Guilty Violations Cluster Categories"
   ]
  },
  {
   "cell_type": "code",
   "execution_count": null,
   "id": "d92b0f5b",
   "metadata": {},
   "outputs": [],
   "source": [
    "plt.figure(figsize=(14, 10))\n",
    "\n",
    "sns.countplot(data=data, y='guilty_violations_cluster_categories', hue='guilty_driving_experience_bin', palette='Set2')\n",
    "\n",
    "plt.title('Distribution of Guilty Driving Experience within Guilty Violations Cluster Categories', fontsize=16)\n",
    "plt.xlabel('Count', fontsize=12)\n",
    "plt.ylabel('Guilty Violations Cluster Categories', fontsize=12)\n",
    "plt.legend(title='Guilty Driving Experience (years)', bbox_to_anchor=(1, 1), loc='upper right')\n",
    "\n",
    "plt.show()\n"
   ]
  },
  {
   "cell_type": "markdown",
   "id": "2095d394",
   "metadata": {},
   "source": [
    "Using numerical analysis to clarify and deepen the understanding based on the distribution of guilty driving experience within guilty violations cluster categories, here are detailed insights and recommendations:\n",
    "\n",
    "1. **Incidence Distribution**:\n",
    "   - **1.1** Categories such as \"Unknown Violations in Car Accidents\" and \"Accident Due to Control by Person Without Driving License\" exhibit the highest counts across multiple experience bins. This suggests a general need for targeted interventions across all experience levels.\n",
    "   - **1.2** Less experienced drivers (0-5 years) are prominently featured in specific violation categories, indicating potential areas where beginner drivers may struggle.\n",
    "\n",
    "2. **Targeted Training Programs**:\n",
    "   - **2.1** Initiate beginner-specific training modules that address the most common violations among drivers with 0-5 years of experience. These programs should focus on practical skills and the importance of adhering to road rules.\n",
    "   - **2.2** Develop refresher courses for drivers with 10-20 years of experience, as this group also frequently appears in several high-incidence categories, possibly due to overconfidence or outdated driving habits."
   ]
  },
  {
   "cell_type": "markdown",
   "id": "596116de",
   "metadata": {},
   "source": [
    "### Create a grouped bar chart to analyze 'severity' and 'category' together\n"
   ]
  },
  {
   "cell_type": "code",
   "execution_count": null,
   "id": "fc69d854",
   "metadata": {},
   "outputs": [],
   "source": [
    "grouped_data = data.groupby(['category', 'severity']).size().unstack().fillna(0)\n",
    "\n",
    "grouped_data = grouped_data.loc[grouped_data.sum(axis=1).sort_values(ascending=False).index]\n",
    "\n",
    "# Plotting\n",
    "fig, ax = plt.subplots(figsize=(12, 10))\n",
    "grouped_data.plot(kind='bar', stacked=True, ax=ax)\n",
    "ax.set_title('Distribution of Severity within each Category')\n",
    "ax.set_xlabel('Category')\n",
    "ax.set_ylabel('Count')\n",
    "plt.xticks(rotation=45, ha='right')\n",
    "plt.tight_layout()\n",
    "plt.show()\n"
   ]
  },
  {
   "cell_type": "markdown",
   "id": "a4c6ff54",
   "metadata": {},
   "source": [
    "#### Converting the count data to percentage for a better comparison across categories with different total counts\n"
   ]
  },
  {
   "cell_type": "code",
   "execution_count": null,
   "id": "7a648585",
   "metadata": {},
   "outputs": [],
   "source": [
    "grouped_percentage = grouped_data.div(grouped_data.sum(axis=1), axis=0) * 100\n",
    "\n",
    "fig, ax = plt.subplots(figsize=(12, 10))\n",
    "grouped_percentage.plot(kind='bar', stacked=True, ax=ax)\n",
    "ax.set_title('Percentage Distribution of Severity within each Category')\n",
    "ax.set_xlabel('Category')\n",
    "ax.set_ylabel('Percentage (%)')\n",
    "plt.xticks(rotation=45, ha='right')\n",
    "plt.tight_layout()\n",
    "plt.show()\n"
   ]
  },
  {
   "cell_type": "code",
   "execution_count": null,
   "id": "d152e85b",
   "metadata": {},
   "outputs": [],
   "source": [
    "count_and_percentage = grouped_data.copy()\n",
    "for col in grouped_data.columns:\n",
    "    count_and_percentage[col + ' (%)'] = grouped_percentage[col]\n",
    "\n",
    "count_and_percentage\n"
   ]
  },
  {
   "cell_type": "markdown",
   "id": "a0da6b22",
   "metadata": {},
   "source": [
    "The table provides both the counts and percentages of accident severity within each accident category. Here's an insightful analysis based on these numbers:\n",
    "\n",
    "1. **Severity in Major Categories**:\n",
    "   - **Столкновение**: The largest category with a total of 896 incidents, distributed as 26.0% minor (233 incidents), 25.0% fatal (224 incidents), and 49.0% severe (439 incidents).\n",
    "   - **Наезд на пешехода**: Comprising 336 incidents with a higher proportion of fatal (32.1% or 108 incidents) and severe (46.7% or 157 incidents) cases compared to minor ones (21.1% or 71 incidents).\n",
    "\n",
    "2. **High-Risk Categories**:\n",
    "   - **Съезд с дороги** and **Наезд на стоящее ТС** both show exceptionally high percentages of severe accidents, at 57.1% each (64 and 24 incidents, respectively). These categories, despite having fewer total incidents, indicate a significant risk of severe outcomes.\n",
    "\n",
    "3. **Fatalities and Severe Injuries**:\n",
    "   - **Наезд на велосипедиста**: Although it has the fewest incidents (15), it has the highest percentage of severe cases (73.3% or 11 incidents) and a substantial percentage of fatalities (20% or 3 incidents).\n",
    "   - Categories like **Наезд на препятствие** also have high fatal (32.4% or 66 incidents) and severe (44.6% or 91 incidents) percentages, emphasizing the danger in these scenarios.\n",
    "\n",
    "4. **Comparative Analysis for Safety Enhancements**:\n",
    "   - Categories such as **Опрокидывание** and **Наезд на пешехода**, where severe and fatal outcomes are predominant, should be priorities for traffic safety measures, including better pedestrian crossings, clearer signage, and road design improvements.\n",
    "   - **Столкновение**, being the most common type, requires broad-based interventions such as public awareness campaigns, enforcement of traffic rules, and perhaps technological aids like collision avoidance systems in vehicles."
   ]
  },
  {
   "cell_type": "code",
   "execution_count": null,
   "id": "7dbedf2f",
   "metadata": {},
   "outputs": [],
   "source": [
    "import pandas as pd\n",
    "\n",
    "data['datetime'] = pd.to_datetime(data['datetime'], errors='coerce')\n",
    "data['hour'] = data['datetime'].dt.hour\n",
    "\n",
    "hourly_accidents = data.groupby('hour').size()\n",
    "\n",
    "color_map = plt.cm.get_cmap('rainbow')  # Using the 'rainbow' color map\n",
    "colors = color_map(np.linspace(0, 1, len(hourly_accidents)))\n",
    "\n",
    "fig, ax = plt.subplots(figsize=(12, 8))\n",
    "hourly_accidents.plot(kind='bar', ax=ax, color=colors)\n",
    "ax.set_title('Number of Accidents by Hour of the Day')\n",
    "ax.set_xlabel('Hour of the Day')\n",
    "ax.set_ylabel('Number of Accidents')\n",
    "plt.xticks(rotation=0)\n",
    "plt.tight_layout()\n",
    "plt.show()\n"
   ]
  },
  {
   "cell_type": "markdown",
   "id": "c32ee50b",
   "metadata": {},
   "source": [
    "The graph shows the distribution of accidents by hour of the day, providing a clear view of when accidents are most and least frequent. Here are some observations and insights based on this data:\n",
    "\n",
    "1. **Peak Hours**:\n",
    "   - There is a noticeable increase in the number of accidents during certain hours, particularly around 18:00 (6 PM). This suggests a peak in accident occurrences likely linked to evening rush hour when traffic density increases as people commute home from work or school.\n",
    "\n",
    "2. **Morning Rush Hour**:\n",
    "   - Another peak occurs around 8:00 AM, coinciding with morning rush hour. This period typically sees increased traffic flow as people begin their workday, leading to a higher likelihood of accidents.\n",
    "\n",
    "3. **Late Night to Early Morning**:\n",
    "   - The number of accidents significantly drops from late evening (after 22:00 or 10 PM) until early morning (around 6:00 AM). This reduction is likely due to decreased traffic volume during these hours. However, accidents that occur during these times might be more severe due to factors like reduced visibility and possibly higher speeds.\n",
    "\n",
    "4. **Midday Activity**:\n",
    "   - A moderate level of accidents persists from late morning through the afternoon, peaking slightly around noon. This could be related to increased vehicle and pedestrian activity during lunch hours and early dismissals from schools or shifts.\n",
    "\n",
    "5. **Implications for Road Safety**:\n",
    "   - **5.1** Traffic management and road safety measures could be intensified during the identified peak times to reduce accident rates. For instance, deploying more traffic officers and enhancing traffic signal effectiveness during these hours could help manage the flow and reduce collisions.\n",
    "   - **5.2** Public awareness campaigns could focus on promoting safe driving practices during high-risk hours, especially emphasizing the evening rush hour.\n",
    "   - **5.3** Consideration could be given to adjusting work or school start and end times in a staggered manner to help disperse peak hour traffic, potentially reducing the congestion that contributes to accidents.\n",
    "\n",
    "These insights can help stakeholders in traffic and city planning to design and implement more effective measures tailored to the specific dynamics of road usage throughout the day, thereby enhancing overall road safety."
   ]
  },
  {
   "cell_type": "markdown",
   "id": "9d979043",
   "metadata": {},
   "source": [
    "# Analyzing Relationship between Weather and Road Conditions"
   ]
  },
  {
   "cell_type": "code",
   "execution_count": null,
   "id": "5f2e977b",
   "metadata": {},
   "outputs": [],
   "source": [
    "weather_road_cross_tab = pd.crosstab(data['weather'], data['road_conditions_cluster_categories'])\n",
    "\n",
    "weather_road_cross_tab = weather_road_cross_tab.loc[weather_road_cross_tab.sum(axis=1).sort_values(ascending=False).index]\n",
    "\n",
    "fig, ax = plt.subplots(figsize=(15, 10))\n",
    "weather_road_cross_tab.plot(kind='bar', stacked=True, ax=ax)\n",
    "ax.set_title('Relationship between Weather and Road Conditions')\n",
    "ax.set_xlabel('Weather Conditions')\n",
    "ax.set_ylabel('Count')\n",
    "plt.xticks(rotation=45, ha='right')\n",
    "plt.tight_layout()\n",
    "plt.show()\n",
    "\n",
    "weather_road_percentage = weather_road_cross_tab.div(weather_road_cross_tab.sum(axis=1), axis=0) * 100\n",
    "\n",
    "# Plotting the percentage distribution\n",
    "fig, ax = plt.subplots(figsize=(15, 10))\n",
    "weather_road_percentage.plot(kind='bar', stacked=True, ax=ax)\n",
    "ax.set_title('Percentage Relationship between Weather and Road Conditions')\n",
    "ax.set_xlabel('Weather Conditions')\n",
    "ax.set_ylabel('Percentage (%)')\n",
    "plt.xticks(rotation=45, ha='right')\n",
    "plt.tight_layout()\n",
    "plt.show()\n"
   ]
  },
  {
   "cell_type": "code",
   "execution_count": null,
   "id": "f2501cc4",
   "metadata": {},
   "outputs": [],
   "source": [
    "weather_road_analysis = pd.concat([weather_road_cross_tab, weather_road_percentage], axis=1, keys=['Count', 'Percentage'])\n",
    "weather_road_analysis\n"
   ]
  },
  {
   "cell_type": "markdown",
   "id": "6b450e1b",
   "metadata": {},
   "source": [
    "# Analyzing Relationship between Weather, Road Conditions, and Light"
   ]
  },
  {
   "cell_type": "code",
   "execution_count": null,
   "id": "dccb7260",
   "metadata": {},
   "outputs": [],
   "source": [
    "\n",
    "g = sns.FacetGrid(data, col=\"light\", col_wrap=1, height=8, aspect=2, sharex=False) \n",
    "g.map(sns.countplot, 'weather', order=data['weather'].value_counts().index, hue=data['road_conditions_cluster_categories'], palette='Set2')\n",
    "g.add_legend(title='Road Conditions', bbox_to_anchor=(0.5, 1.2), loc='upper center', ncol=3)  \n",
    "g.set_xticklabels(rotation=45, ha='right')\n",
    "g.set_axis_labels(\"Weather Conditions\", \"Count\")\n",
    "g.fig.subplots_adjust(top=0.85, hspace=0.3) \n",
    "g.fig.suptitle('Relationship between Weather, Road Conditions, and Light', fontsize=16)\n",
    "\n",
    "# Increase the figure size\n",
    "g.fig.set_figwidth(20) \n",
    "g.fig.set_figheight(30) \n",
    "\n",
    "plt.show()"
   ]
  },
  {
   "cell_type": "markdown",
   "id": "c7981c82",
   "metadata": {},
   "source": [
    "Prevalence of Accidents in Different Conditions:\n",
    "\n",
    "It's evident that most accidents occur during Bright Daylight and Clear Weather conditions. The prevalence of accidents in these conditions could be due to higher traffic volumes during the day and in favorable weather.\n",
    "Road Conditions:\n",
    "\n",
    "Across all light conditions, the Normal road condition appears to be the most common during accidents. This could be indicative of other factors like human error or mechanical failures being more significant contributors to accidents than adverse road conditions.\n",
    "Adverse Weather Conditions:\n",
    "\n",
    "There's a noticeable number of accidents occurring under Raining weather conditions, particularly in Darkness with street lights on and Twilight or Dawn. This suggests that visibility and wet roads could be contributing factors to accidents during adverse weather conditions.\n",
    "Impact of Light Conditions:\n",
    "\n",
    "The change in the distribution of accidents across different light conditions, especially from Bright Daylight to Darkness with street lights on or Twilight or Dawn, indicates that light conditions could play a crucial role in road safety.\n",
    "Correlation between Weather and Road Conditions:\n",
    "\n",
    "The interaction between weather and road conditions in the occurrence of accidents is nuanced. For instance, adverse road conditions don't seem to correspond with a significant increase in accidents, suggesting that other factors might be at play.\n",
    "Recommendations for Further Analysis:\n",
    "\n",
    "The findings might warrant a deeper investigation into other contributing factors to accidents like traffic volumes, human factors (e.g., distracted or impaired driving), vehicle conditions, and roadway design.\n",
    "Data-Driven Policy Recommendations:\n",
    "\n",
    "Policymakers and urban planners might use this data to implement safety measures aimed at reducing accidents, especially during adverse weather or light conditions. For instance, improving street lighting, enhancing road markings, or launching weather-aware driving campaigns."
   ]
  },
  {
   "cell_type": "markdown",
   "id": "13300a69",
   "metadata": {},
   "source": [
    "# Plotting correlations using different techniques"
   ]
  },
  {
   "cell_type": "code",
   "execution_count": null,
   "id": "33022713",
   "metadata": {},
   "outputs": [],
   "source": [
    "columns_to_exclude = ['region', 'point', 'address', 'parent_region', 'geometry', 'nearby', 'road_conditions','victim_violations', 'guilty_violations'\n",
    "                      , 'hijri', 'vehicle_model', 'vehicle_brand']\n",
    "\n",
    "categorical_columns = data.select_dtypes(include=['object']).columns\n",
    "\n",
    "categorical_columns = categorical_columns.drop(columns_to_exclude)\n"
   ]
  },
  {
   "cell_type": "code",
   "execution_count": null,
   "id": "dd0c1910",
   "metadata": {
    "scrolled": true
   },
   "outputs": [],
   "source": [
    "for i in range(len(categorical_columns)):\n",
    "    for j in range(i+1, len(categorical_columns)):\n",
    "        contingency_table = pd.crosstab(data[categorical_columns[i]], data[categorical_columns[j]])\n",
    "        \n",
    "        plt.figure(figsize=(10, 8))\n",
    "        sns.heatmap(contingency_table, annot=True, fmt='d', cmap='coolwarm')\n",
    "        plt.title(f'Heatmap of {categorical_columns[i]} vs {categorical_columns[j]}')\n",
    "        plt.show()\n"
   ]
  },
  {
   "cell_type": "code",
   "execution_count": null,
   "id": "5b90e6db",
   "metadata": {
    "scrolled": true
   },
   "outputs": [],
   "source": [
    "for i in range(len(categorical_columns)):\n",
    "    for j in range(i + 1, len(categorical_columns)):\n",
    "        contingency_table = pd.crosstab(data[categorical_columns[i]], data[categorical_columns[j]], normalize='index') * 100\n",
    "        \n",
    "        plt.figure(figsize=(10, 8))\n",
    "        sns.heatmap(contingency_table, annot=True, fmt='.2f', cmap='coolwarm', cbar_kws={'label': 'Percentage (%)'})\n",
    "        plt.title(f'Percentage Heatmap of {categorical_columns[i]} vs {categorical_columns[j]}')\n",
    "        plt.xlabel(categorical_columns[j])\n",
    "        plt.ylabel(categorical_columns[i])\n",
    "        plt.show()\n"
   ]
  },
  {
   "cell_type": "markdown",
   "id": "0a56d7a1",
   "metadata": {},
   "source": [
    "## Generate custom heatmaps"
   ]
  },
  {
   "cell_type": "code",
   "execution_count": null,
   "id": "67803028",
   "metadata": {},
   "outputs": [],
   "source": [
    "updated_combinations = [\n",
    "    ('tags', 'severity'),\n",
    "    ('tags', 'nearby_cluster_categories'),\n",
    "    ('tags', 'guilty_violations_cluster_categories'),\n",
    "    ('light', 'category'),\n",
    "    ('light', 'weather'),\n",
    "    ('light', 'dead_count'),\n",
    "    ('light', 'injured_count'),\n",
    "    ('light', 'victim_counts'),\n",
    "    ('weather', 'severity'),\n",
    "    ('weather', 'victim_counts'),\n",
    "    ('weather', 'victim_categories'),\n",
    "    ('weather', 'victim_health_status'),\n",
    "    ('category', 'severity'),\n",
    "    ('category', 'injured_count'),\n",
    "    ('category', 'victim_counts'),\n",
    "    ('category', 'victim_categories'),\n",
    "    ('category', 'victim_violations_cluster_categories'),\n",
    "    ('category', 'road_conditions_cluster_categories'),\n",
    "    ('category', 'nearby_cluster_categories'),\n",
    "    ('category', 'guilty_violations_cluster_categories'),\n",
    "    ('severity', 'guilty_violations_cluster_categories'),\n",
    "    ('dead_count', 'nearby_cluster_categories'),\n",
    "    ('victim_role', 'road_conditions_cluster_categories')\n",
    "]\n",
    "\n",
    "updated_heatmaps_dict = {}\n",
    "\n",
    "for combination in updated_combinations:\n",
    "    column1, column2 = combination\n",
    "    \n",
    "    contingency_table = pd.crosstab(data[column1], data[column2])\n",
    "    \n",
    "    updated_heatmaps_dict[combination] = contingency_table\n",
    "    \n",
    "for combination, contingency_table in updated_heatmaps_dict.items():\n",
    "    column1, column2 = combination\n",
    "    \n",
    "    plt.figure(figsize=(10, 8))\n",
    "    sns.heatmap(contingency_table, annot=True, fmt=\"d\", cmap=\"YlGnBu\")\n",
    "    plt.title(f'Heatmap of {column1} vs {column2}')\n",
    "    plt.xlabel(column2)\n",
    "    plt.ylabel(column1)\n",
    "    plt.xticks(rotation=45, ha='right')\n",
    "    plt.tight_layout()\n",
    "    plt.show()\n"
   ]
  }
 ],
 "metadata": {
  "kernelspec": {
   "display_name": "Python 3 (ipykernel)",
   "language": "python",
   "name": "python3"
  },
  "language_info": {
   "codemirror_mode": {
    "name": "ipython",
    "version": 3
   },
   "file_extension": ".py",
   "mimetype": "text/x-python",
   "name": "python",
   "nbconvert_exporter": "python",
   "pygments_lexer": "ipython3",
   "version": "3.11.4"
  }
 },
 "nbformat": 4,
 "nbformat_minor": 5
}
